{
 "cells": [
  {
   "cell_type": "markdown",
   "metadata": {},
   "source": [
    "# Assignment Day 3"
   ]
  },
  {
   "cell_type": "code",
   "execution_count": 1,
   "metadata": {},
   "outputs": [
    {
     "name": "stdout",
     "output_type": "stream",
     "text": [
      "[ 2  5  8 11 14 17 20 23 26 29 32 35 38 41 44 47 50]\n"
     ]
    }
   ],
   "source": [
    "#Question NO. 1\n",
    "\n",
    "import numpy as np\n",
    "arr=np.arange(2,51,3)\n",
    "print(arr)"
   ]
  },
  {
   "cell_type": "code",
   "execution_count": 2,
   "metadata": {},
   "outputs": [
    {
     "name": "stdout",
     "output_type": "stream",
     "text": [
      "5\n",
      "2\n",
      "4\n",
      "6\n",
      "2\n",
      "list 1 : [5, 2, 4, 6, 2]\n",
      "8\n",
      "2\n",
      "5\n",
      "9\n",
      "7\n",
      "list 2 : [8, 2, 5, 9, 7]\n",
      "concatenated array : [5 2 4 6 2 8 2 5 9 7]\n",
      "sorted array : [2 2 2 4 5 5 6 7 8 9]\n"
     ]
    }
   ],
   "source": [
    "#Question NO. 2\n",
    "import numpy as np\n",
    "list1=[]\n",
    "list2=[]\n",
    "for i in range(5):\n",
    "    n=int(input())\n",
    "    list1.append(n)\n",
    "print(\"list 1 :\",list1)\n",
    "for i in range(5):\n",
    "    n=int(input())\n",
    "    list2.append(n)\n",
    "print(\"list 2 :\",list2)\n",
    "arr1=np.array(list1)\n",
    "arr2=np.array(list2)\n",
    "concat= np.concatenate((arr1,arr2))\n",
    "print(\"concatenated array :\",concat)\n",
    "print(\"sorted array :\",np.sort(concat))"
   ]
  },
  {
   "cell_type": "code",
   "execution_count": 3,
   "metadata": {},
   "outputs": [
    {
     "name": "stdout",
     "output_type": "stream",
     "text": [
      "Dimensions of array : 2\n",
      "Size of array : 15\n"
     ]
    }
   ],
   "source": [
    "#Question NO. 3\n",
    "\n",
    "import numpy as np\n",
    "\n",
    "arr = np.array([[1, 4, 7], [3, 6, 9], [1, 4, 7], [3, 6, 9],[8,5,6]])\n",
    "print(\"Dimensions of array :\",arr.ndim)\n",
    "\n",
    "print(\"Size of array :\",arr.size)"
   ]
  },
  {
   "cell_type": "code",
   "execution_count": 4,
   "metadata": {},
   "outputs": [
    {
     "name": "stdout",
     "output_type": "stream",
     "text": [
      "4\n",
      "1D Array :\n",
      "[0 1 2 3]\n",
      "(4,)\n",
      "2D Arrays :\n",
      "For ROW : [[0 1 2 3]]\n",
      "(1, 4)\n",
      "For Column :  [[0]\n",
      " [1]\n",
      " [2]\n",
      " [3]]\n",
      "(4, 1)\n"
     ]
    }
   ],
   "source": [
    "#Question NO. 4\n",
    "\n",
    "import numpy as np\n",
    "arr = np.arange(int(input()))\n",
    "print(\"1D Array :\")\n",
    "print(arr)\n",
    "print(arr.shape)\n",
    "print(\"2D Arrays :\")\n",
    "arr1=arr[ np.newaxis]\n",
    "print(\"For ROW :\",arr1)\n",
    "print(arr1.shape)\n",
    "arr2=arr[:,np.newaxis]\n",
    "print(\"For Column : \",arr2)\n",
    "print(arr2.shape)\n"
   ]
  },
  {
   "cell_type": "code",
   "execution_count": 5,
   "metadata": {},
   "outputs": [
    {
     "name": "stdout",
     "output_type": "stream",
     "text": [
      "[  1  16  25  64 121]\n",
      " horizontally stacked : [  1  16  25  64 121  16  25  64  36  81]\n",
      "vertically stacked :  [[  1  16  25  64 121]\n",
      " [ 16  25  64  36  81]]\n"
     ]
    }
   ],
   "source": [
    "#Question NO. 5\n",
    "\n",
    "import numpy as np\n",
    "\n",
    "arr1= np.square([1, 4, 5, 8,11])\n",
    "arr2= np.square([4, 5, 8, 6, 9])\n",
    "print(arr1)\n",
    "\n",
    "\n",
    "print(\" horizontally stacked :\", np.hstack((arr1,arr2)))\n",
    "\n",
    "print(\"vertically stacked : \", np.vstack((arr1,arr2)))\n",
    "\n"
   ]
  },
  {
   "cell_type": "code",
   "execution_count": 6,
   "metadata": {},
   "outputs": [
    {
     "name": "stdout",
     "output_type": "stream",
     "text": [
      "[1 1 2 2 3 4 4 1]\n",
      "Unique values :  [1 2 3 4]\n",
      "Count of Unique Values : 4\n"
     ]
    }
   ],
   "source": [
    "#Question NO. 6\n",
    "\n",
    "import numpy\n",
    "arr= numpy.array([1, 1, 2,2, 3, 4, 4, 1])\n",
    "print(arr)\n",
    "uni= numpy.unique(arr)\n",
    "print(\"Unique values : \",uni)\n",
    "print(\"Count of Unique Values :\",len(uni))"
   ]
  },
  {
   "cell_type": "code",
   "execution_count": null,
   "metadata": {},
   "outputs": [],
   "source": []
  }
 ],
 "metadata": {
  "kernelspec": {
   "display_name": "Python 3",
   "language": "python",
   "name": "python3"
  },
  "language_info": {
   "codemirror_mode": {
    "name": "ipython",
    "version": 3
   },
   "file_extension": ".py",
   "mimetype": "text/x-python",
   "name": "python",
   "nbconvert_exporter": "python",
   "pygments_lexer": "ipython3",
   "version": "3.7.4"
  }
 },
 "nbformat": 4,
 "nbformat_minor": 2
}
